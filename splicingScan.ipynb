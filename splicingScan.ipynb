{
  "cells": [
    {
      "cell_type": "markdown",
      "metadata": {
        "id": "view-in-github",
        "colab_type": "text"
      },
      "source": [
        "<a href=\"https://colab.research.google.com/github/xuebingwu/SplicingLab/blob/main/splicingScan.ipynb\" target=\"_parent\"><img src=\"https://colab.research.google.com/assets/colab-badge.svg\" alt=\"Open In Colab\"/></a>"
      ]
    },
    {
      "cell_type": "markdown",
      "metadata": {
        "id": "HBC_J9pHSp1p"
      },
      "source": [
        "\n",
        "# <font color='MediumSlateBlue '> **Splicing^Lab**  </font> \n",
        "## A Colab notebook for discovering splice sites and regulatory elements from a single sequence\n",
        "---\n",
        "[Xuebing Wu lab @ Columbia](https://xuebingwu.github.io/)     |     [GitHub repository](https://github.com/xuebingwu/splice-site-prediction-with-pangolin) \n"
      ]
    },
    {
      "cell_type": "code",
      "execution_count": null,
      "metadata": {
        "cellView": "form",
        "colab": {
          "base_uri": "https://localhost:8080/",
          "height": 1000
        },
        "id": "D6znA5iqZu1b",
        "outputId": "418832ba-1350-44ff-b6b0-83aebe969af3"
      },
      "outputs": [
        {
          "output_type": "stream",
          "name": "stdout",
          "text": [
            "\n",
            "\n",
            "2023-05-10 19:13:51: Loading Pangolin (~30s, first time only)\n",
            "~~~~~~~~~~~~~~~~~~~~~~~~~~~~~~~~~~~~~~~~~~~~~~~~~~~~~~~~~~~~~~\n",
            "Cloning into 'SplicingLab'...\n",
            "remote: Enumerating objects: 734, done.\u001b[K\n",
            "remote: Counting objects: 100% (734/734), done.\u001b[K\n",
            "remote: Compressing objects: 100% (410/410), done.\u001b[K\n",
            "remote: Total 734 (delta 385), reused 620 (delta 316), pack-reused 0\u001b[K\n",
            "Receiving objects: 100% (734/734), 193.75 MiB | 14.39 MiB/s, done.\n",
            "Resolving deltas: 100% (385/385), done.\n",
            "Updating files: 100% (55/55), done.\n",
            "/content/SplicingLab\n",
            "Looking in indexes: https://pypi.org/simple, https://us-python.pkg.dev/colab-wheels/public/simple/\n",
            "Processing /content/SplicingLab\n",
            "  Preparing metadata (setup.py) ... \u001b[?25l\u001b[?25hdone\n",
            "Building wheels for collected packages: pangolin\n",
            "  Building wheel for pangolin (setup.py) ... \u001b[?25l\u001b[?25hdone\n",
            "  Created wheel for pangolin: filename=pangolin-1.0.2-py3-none-any.whl size=104923074 sha256=8b3fb80c181a8c09b0f13cd79cbc2bffcc4f78091569acfd41cda391f8ef7daf\n",
            "  Stored in directory: /tmp/pip-ephem-wheel-cache-9jm2evk2/wheels/ea/a6/d1/75896325f9296a610b775c40b984ea8be31dcb29fae978391a\n",
            "Successfully built pangolin\n",
            "Installing collected packages: pangolin\n",
            "Successfully installed pangolin-1.0.2\n",
            "/content\n",
            "~~~~~~~~~~~~~~~~~~~~~~~~~~~~~~~~~~~~~~~~~~~~~~~~~~~~~~~~~~~~~~\n",
            "\n",
            "\n",
            "\u001b[1m\u001b[94mOUTPUT\u001b[0m\n",
            "\n",
            "\n",
            "2023-05-10 19:14:34: Input sequence length = 786\n",
            "2023-05-10 19:14:34: Loading models\n",
            "GPU not available!!\n",
            "GPU not available!!\n",
            "GPU not available!!\n",
            "GPU not available!!\n",
            "GPU not available!!\n",
            "2023-05-10 19:14:35: Scoring sites: + strand\n",
            "2023-05-10 19:14:37: Filtering sites: + strand\n",
            "\u001b[1m\u001b[94m3 splice sites found on the + strand with SCORE_CUTOFF = 0.05\u001b[0m\n",
            "2023-05-10 19:14:37: Saving to file: + strand\n",
            "\n",
            "---------------------------------\n",
            "#Predicted splice sites\n",
            "#Options: SCORE_TYPE=Usage, SCORE_CUTOFF=0.05\n",
            "#Columns info:\n",
            "#1 - Position: site position in the sequence\n",
            "#2 - Sequence: 20-nt junction sequence. Intron-lower case; Exon-upper case\n",
            "#3 - Strand: strand of the site\n",
            "#4 - Type: 5' splice site (5'SS), 3' splice site (3'SS), or Undetermined, or Noncanonical\n",
            "#5-8 - Scores: site usage or P(splice) in each tissue\n",
            "\n",
            "Position\tSequence\tStrand\tType\tTestis\n",
            "261\tTTCCTTACAGGGTTTTAGAC\t+\tUndetermined\t0.36\n",
            "314\tTAAATTAAGGAgtaagtctg\t+\t5'SS\t0.306\n",
            "759\ttcatttgcagGAAATGCTGG\t+\t3'SS\t0.239\n"
          ]
        },
        {
          "output_type": "display_data",
          "data": {
            "text/plain": [
              "<Figure size 800x400 with 1 Axes>"
            ],
            "image/png": "[encoded data removed]"
          },
          "metadata": {}
        }
      ],
      "source": [
        "#@title Step 1: Predict splice sites\n",
        "\n",
        "# scripts from custom_usage.py from the Pangolin package\n",
        "\n",
        "import os\n",
        "from matplotlib import pylab\n",
        "import matplotlib.lines as mlines\n",
        "from google.colab import files\n",
        "import datetime\n",
        "import re\n",
        "\n",
        "\n",
        "######### options\n",
        "\n",
        "########## input \n",
        "INPUT = \"Paste your sequence or select a sample sequence (default: SRSF3 skipped exon)\"#@param [\"Paste your sequence or select a sample sequence (default: SRSF3 skipped exon)\",\"GAPDH pre-mRNA\", \"EGFP + CENPB 3' UTR reporter\",\"SMN2 exon 7\"] {allow-input: true}\n",
        "#INPUT = \"Paste your sequence or select a sample sequence (default: ACTB pre-mRNA)\"#@param [\"ACTB pre-mRNA\", \"GAPDH pre-mRNA\", \"EGFP + CENPB 3' UTR reporter\"] {allow-input: true}\n",
        "\n",
        "#@markdown - To run: click `Runtime` -> `Run all` in the menu bar, or click the triangle play/run button on the left\n",
        "#@markdown - Input format: raw sequence (A/C/G/T/U only); space allowed\n",
        "#@markdown - Multi-line sequence from a FASTA file (without the header) can be copy-pasted directly\n",
        "#@markdown - Sample sequences can be selected from the dropdown box\n",
        "\n",
        "# set model type\n",
        "SCORE_TYPE = \"Usage\" #@param [\"Usage\", \"P(splice)\"]\n",
        "#@markdown - *Usage*: predict tissue-specific usage of a splice site (default).  \n",
        "#@markdown - *P(splice)*: predict tissue-specific probability of a site being spliced\n",
        "#@markdown - The model trained with testis data is used as it is the most sensititive one.\n",
        "\n",
        "if SCORE_TYPE == \"Usage\":\n",
        "  model_nums = [7]\n",
        "else:\n",
        "  model_nums = [6]\n",
        "# 0 = Heart, P(splice)\n",
        "# 1 = Heart, usage\n",
        "# 2 = Liver, P(splice)\n",
        "# 3 = Liver, usage\n",
        "# 4 = Brain, P(splice)\n",
        "# 5 = Brain, usage\n",
        "# 6 = Testis, P(splice)\n",
        "# 7 = Testis, usage\n",
        "\n",
        "tissues = ['Testis']\n",
        "\n",
        "# min score\n",
        "SCORE_CUTOFF = 0.05 #@param {type:\"slider\", min:0.01, max:1, step:0.01}\n",
        "#@markdown - Minimum usage/splicing probability of a site to be included in the output \n",
        "#@markdown - All splice sites passing this filter will be used in step 2 for regulatory elements scanning\n",
        "\n",
        "if not os.path.exists(\"SplicingLab\"):\n",
        "  print(\"\\n\")\n",
        "  print(datetime.datetime.now().strftime(\"%Y-%m-%d %H:%M:%S\")+': Loading Pangolin (~30s, first time only)')\n",
        "  print(\"~~~~~~~~~~~~~~~~~~~~~~~~~~~~~~~~~~~~~~~~~~~~~~~~~~~~~~~~~~~~~~\")\n",
        "  #!pip install pyvcf gffutils biopython pandas pyfastx\n",
        "  !git clone https://github.com/xuebingwu/SplicingLab.git\n",
        "  %cd SplicingLab\n",
        "  !pip install .\n",
        "  %cd /content\n",
        "  print(\"~~~~~~~~~~~~~~~~~~~~~~~~~~~~~~~~~~~~~~~~~~~~~~~~~~~~~~~~~~~~~~\")\n",
        "\n",
        "from pkg_resources import resource_filename\n",
        "from pangolin.model import *\n",
        "\n",
        "import sys\n",
        "sys.path.append('/content/SplicingLab/')\n",
        "from splicinglab import *\n",
        "\n",
        "## start the analysis\n",
        "\n",
        "\n",
        "seq = INPUT\n",
        "\n",
        "if seq == \"GAPDH pre-mRNA\":\n",
        "  seq = \"GCTCTCTGCTCCTCCTGTTCGACAGTCAGCCGCATCTTCTTTTGCGTCGCCAGGTGAAGACGGGCGGAGAGAAACCCGGGAGGCTAGGGACGGCCTGAAGGCGGCAGGGGCGGGCGCAGGCCGGATGTGTTCGCGCCGCTGCGGGGTGGGCCCGGGCGGCCTCCGCATTGCAGGGGCGGGCGGAGGACGTGATGCGGCGCGGGCTGGGCATGGAGGCCTGGTGGGGGAGGGGAGGGGAGGCGTGTGTGTCGGCCGGGGCCACTAGGCGCTCACTGTTCTCTCCCTCCGCGCAGCCGAGCCACATCGCTCAGACACCATGGGGAAGGTGAAGGTCGGAGTCAACGGGTGAGTTCGCGGGTGGCTGGGGGGCCCTGGGCTGCGACCGCCCCCGAACCGCGTCTACGAGCCTTGCGGGCTCCGGGTCTTTGCAGTCGTATGGGGGCAGGGTAGCTGTTCCCCGCAAGGAGAGCTCAAGGTCAGCGCTCGGACCTGGCGGAGCCCCGCACCCAGGCTGTGGCGCCCTGTGCAGCTCCGCCCTTGCGGCGCCATCTGCCCGGAGCCTCCTTCCCCTAGTCCCCAGAAACAGGAGGTCCCTACTCCCGCCCGAGATCCCGACCCGGACCCCTAGGTGGGGGACGCTTTCTTTCCTTTCGCGCTCTGCGGGGTCACGTGTCGCAGAGGAGCCCCTCCCCCACGGCCTCCGGCACCGCAGGCCCCGGGATGCTAGTGCGCAGCGGGTGCATCCCTGTCCGGATGCTGCGCCTGCGGTAGAGCGGCCGCCATGTTGCAACCGGGAAGGAAATGAATGGGCAGCCGTTAGGAAAGCCTGCCGGTGACTAACCCTGCGCTCCTGCCTCGATGGGTGGAGTCGCGTGTGGCGGGGAAGTCAGGTGGAGCGAGGCTAGCTGGCCCGATTTCTCCTCCGGGTGATGCTTTTCCTAGATTATTCTCTGGTAAATCAAAGAAGTGGGTTTATGGAGGTCCTCTTGTGTCCCCTCCCCGCAGAGGTGTGGTGGCTGTGGCATGGTGCCAAGCCGGGAGAAGCTGAGTCATGGGTAGTTGGAAAAGGACATTTCCACCGCAAAATGGCCCCTCTGGTGGTGGCCCCTTCCTGCAGCGCCGGCTCACCTCACGGCCCCGCCCTTCCCCTGCCAGCCTAGCGTTGACCCGACCCCAAAGGCCAGGCTGTAAATGTCACCGGGAGGATTGGGTGTCTGGGCGCCTCGGGGAACCTGCCCTTCTCCCCATTCCGTCTTCCGGAAACCAGATCTCCCACCGCACCCTGGTCTGAGGTTAAATATAGCTGCTGACCTTTCTGTAGCTGGGGGCCTGGGCTGGGGCTCTCTCCCATCCCTTCTCCCCACACACATGCACTTACCTGTGCTCCCACTCCTGATTTCTGGAAAAGAGCTAGGAAGGACAGGCAACTTGGCAAATCAAAGCCCTGGGACTAGGGGGTTAAAATACAGCTTCCCCTCTTCCCACCCGCCCCAGTCTCTGTCCCTTTTGTAGGAGGGACTTAGAGAAGGGGTGGGCTTGCCCTGTCCAGTTAATTTCTGACCTTTACTCCTGCCCTTTGAGTTTGATGATGCTGAGTGTACAAGCGTTTTCTCCCTAAAGGGTGCAGCTGAGCTAGGCAGCAGCAAGCATTCCTGGGGTGGCATAGTGGGGTGGTGAATACCATGTACAAAGCTTGTGCCCAGACTGTGGGTGGCAGTGCCCCACATGGCCGCTTCTCCTGGAAGGGCTTCGTATGACTGGGGGTGTTGGGCAGCCCTGGAGCCTTCAGTTGCAGCCATGCCTTAAGCCAGGCCAGCCTGGCAGGGAAGCTCAAGGGAGATAAAATTCAACCTCTTGGGCCCTCCTGGGGGTAAGGAGATGCTGCATTCGCCCTCTTAATGGGGAGGTGGCCTAGGGCTGCTCACATATTCTGGAGGAGCCTCCCCTCCTCATGCCTTCTTGCCTCTTGTCTCTTAGATTTGGTCGTATTGGGCGCCTGGTCACCAGGGCTGCTTTTAACTCTGGTAAAGTGGATATTGTTGCCATCAATGACCCCTTCATTGACCTCAACTACATGGTGAGTGCTACATGGTGAGCCCCAAAGCTGGTGTGGGAGGAGCCACCTGGCTGATGGGCAGCCCCTTCATACCCTCACGTATTCCCCCAGGTTTACATGTTCCAATATGATTCCACCCATGGCAAATTCCATGGCACCGTCAAGGCTGAGAACGGGAAGCTTGTCATCAATGGAAATCCCATCACCATCTTCCAGGAGTGAGTGGAAGACAGAATGGAAGAAATGTGCTTTGGGGAGGCAACTAGGATGGTGTGGCTCCCTTGGGTATATGGTAACCTTGTGTCCCTCAATATGGTCCTGTCCCCATCTCCCCCCCACCCCCATAGGCGAGATCCCTCCAAAATCAAGTGGGGCGATGCTGGCGCTGAGTACGTCGTGGAGTCCACTGGCGTCTTCACCACCATGGAGAAGGCTGGGGTGAGTGCAGGAGGGCCCGCGGGAGGGGAAGCTGACTCAGCCCTGCAAAGGCAGGACCCGGGTTCATAACTGTCTGCTTCTCTGCTGTAGGCTCATTTGCAGGGGGGAGCCAAAAGGGTCATCATCTCTGCCCCCTCTGCTGATGCCCCCATGTTCGTCATGGGTGTGAACCATGAGAAGTATGACAACAGCCTCAAGATCATCAGGTGAGGAAGGCAGGGCCCGTGGAGAAGCGGCCAGCCTGGCACCCTATGGACACGCTCCCCTGACTTGCGCCCCGCTCCCTCTTTCTTTGCAGCAATGCCTCCTGCACCACCAACTGCTTAGCACCCCTGGCCAAGGTCATCCATGACAACTTTGGTATCGTGGAAGGACTCATGGTATGAGAGCTGGGGAATGGGACTGAGGCTCCCACCTTTCTCATCCAAGACTGGCTCCTCCCTGCCGGGGCTGCGTGCAACCCTGGGGTTGGGGGTTCTGGGGACTGGCTTTCCCATAATTTCCTTTCAAGGTGGGGAGGGAGGTAGAGGGGTGATGTGGGGAGTACGCTGCAGGGCCTCACTCCTTTTGCAGACCACAGTCCATGCCATCACTGCCACCCAGAAGACTGTGGATGGCCCCTCCGGGAAACTGTGGCGTGATGGCCGCGGGGCTCTCCAGAACATCATCCCTGCCTCTACTGGCGCTGCCAAGGCTGTGGGCAAGGTCATCCCTGAGCTGAACGGGAAGCTCACTGGCATGGCCTTCCGTGTCCCCACTGCCAACGTGTCAGTGGTGGACCTGACCTGCCGTCTAGAAAAACCTGCCAAATATGATGACATCAAGAAGGTGGTGAAGCAGGCGTCGGAGGGCCCCCTCAAGGGCATCCTGGGCTACACTGAGCACCAGGTGGTCTCCTCTGACTTCAACAGCGACACCCACTCCTCCACCTTTGACGCTGGGGCTGGCATTGCCCTCAACGACCACTTTGTCAAGCTCATTTCCTGGTATGTGGCTGGGGCCAGAGACTGGCTCTTAAAAAGTGCAGGGTCTGGCGCCCTCTGGTGGCTGGCTCAGAAAAAGGGCCCTGACAACTCTTTTCATCTTCTAGGTATGACAACGAATTTGGCTACAGCAACAGGGTGGTGGACCTCATGGCCCACATGGCCTCCAAGGAGTAAGACCCCTGGACCACCAGCCCCAGCAAGAGCACAAGAGGAAGAGAGAGACCCTCACTGCTGGGGAGTCCCTGCCACACTCAGTCCCCCACCACACTGAATCTCCCCTCCTCACAGTTGCCATGTAGACCCCTTGAAGAGGGGAGGGGCCTAGGGAGCCGCACCTTGTCATGTACCATCAATAAAGTACCCTGTGCTCAACCA\"\n",
        "elif seq == \"EGFP + CENPB 3' UTR reporter\":\n",
        "  seq = \"ATGGTGAGCAAGGGCGAGGAGCTGTTCACCGGGGTGGTGCCCATCCTGGTCGAGCTGGACGGCGACGTAAACGGCCACAAGTTCAGCGTGTCCGGCGAGGGCGAGGGCGATGCCACCTACGGCAAGCTGACCCTGAAGTTCATCTGCACCACCGGCAAGCTGCCCGTGCCCTGGCCCACCCTCGTGACCACCCTGACCTACGGCGTGCAGTGCTTCAGCCGCTACCCCGACCACATGAAGCAGCACGACTTCTTCAAGTCCGCCATGCCCGAAGGCTACGTCCAGGAGCGCACCATCTTCTTCAAGGACGACGGCAACTACAAGACCCGCGCCGAGGTGAAGTTCGAGGGCGACACCCTGGTGAACCGCATCGAGCTGAAGGGCATCGACTTCAAGGAGGACGGCAACATCCTGGGGCACAAGCTGGAGTACAACTACAACAGCCACAACGTCTATATCATGGCCGACAAGCAGAAGAACGGCATCAAGGTGAACTTCAAGATCCGCCACAACATCGAGGACGGCAGCGTGCAGCTCGCCGACCACTACCAGCAGAACACCCCCATCGGCGACGGCCCCGTGCTGCTGCCCGACAACCACTACCTGAGCACCCAGTCCGCCCTGAGCAAAGACCCCAACGAGAAGCGCGATCACATGGTCCTGCTGGAGTTCGTGACCGCCGCCGGGATCACTCTCGGCATGGACGAGCTGTACAAGTAAGTCACTGGACCTAGCTGTGCCCCCAACCTAGATTGGCAGCACCACCCCAGGGCAGAGGACTCTCTGGGCACCCGCTGTGCATGGAGCCAGAGTGCAGAGCCCCAGATCCTTTAGTAATGCTTCCCCTGGTCCTGCAACAGGCCCGGTCACCTCGGCCGGGCCCGGGGCTGAGGTCAGCCTCACTGCCTGCTTATTGCCTCTTTCTCAGAATCCTCTTTCCTCCCCATTTGGCCCTGGGCTCAGGGGACCAGGTGGGGCGGGTGGGGAGCTGTCCGGTGCTACCACACCGTGCCCTCAGTGGACTAACCACAGCAGCAGCCAGGGATGGGCCCTGGAGGTTCCCGGCCGGAGAGTGCCTCTCCCCTCTGCCATCCACGTCAGGTCTTTGGTGGGGGGACCCCAAAGCCATTCTGGGAAGGGCTCCAGAAGAAGGTCCAGCCTAGGCCCCCTGCAAGGCTGGCAGCCCCCACCCCCACCCCCCAGGCCGCCTTGAGAAGCACAGTTTAACTCACTGCGGGCTCCTGAGCCTGCTTCTGCCTGCTTTCCACCTCCCCAGTCCCTTTCTCTGGCCCTGTCCATGTGACTTTGGCCCTTGGTTTTCTTTCCAGATTGGAGGTTTCCAAGAGGCCCCCCACCGTGGAAGTAACCAAGGGCGCTTCCTTGTGGGCAGCTGCAGGCCCCATGCCTCTCCTCCCTCTCTGGCAGGGCCCCATCCTGGGCAGAGGGGCCTGGGGCTGGGCCCAGAGTCCAGCCGTCCAGCTGCTCCTTTCCCAGTTTGATTTCAATAAATCTGTCCACTCCCCTTTTGTGGGGGTGAACGTTTTAACAGCCAAGGGT\"\n",
        "elif seq == \"SMN2 exon 7\":\n",
        "  seq=\"CGCCTCCCAAAGTTGTGGGATTGTAGGCATGAGCCACTGCAAGAAAACCTTAACTGCAGCCTAATAATTGTTTTCTTTGGGATAACTTTTAAAGTACATTAAAAGACTATCAACTTAATTTCTGATCATATTTTGTTGAATAAAATAAGTAAAATGTCTTGTGAAACAAAATGCTTTTTAACATCCATATAAAGCTATCTATATATAGCTATCTATATCTATATAGCTATTTTTTTTAACTTCCTTTATTTTCCTTACAGGGTTTTAGACAAAATCAAAAAGAAGGAAGGTGCTCACATTCCTTAAATTAAGGAGTAAGTCTGCCAGCATTATGAAAGTGAATCTTACTTTTGTAAAACTTTATGGTTTGTGGAAAACAAATGTTTTTGAACATTTAAAAAGTTCAGATGTTAGAAAGTTGAAAGGTTAATGTAAAACAATCAATATTAAAGAATTTTGATGCCAAAACTATTAGATAAAAGGTTAATCTACATCCCTACTAGAATTCTCATACTTAACTGGTTGGTTGTGTGGAAGAAACATACTTTCACAATAAAGAGCTTTAGGATATGATGCCATTTTATATCACTAGTAGGCAGACCAGCAGACTTTTTTTTATTGTGATATGGGATAACCTAGGCATACTGCACTGTACACTCTGACATATGAAGTGCTCTAGTCAAGTTTAACTGGTGTCCACAGAGGACATGGTTTAACTGGAATTCGTCAAGCCTCTGGTTCTAATTTCTCATTTGCAGGAAATGCTGGCATAGAGCAGCACTAAAT\"\n",
        "elif seq == \"Paste your sequence or select a sample sequence (default: SRSF3 skipped exon)\":\n",
        "  seq = \"TATGTGGCTGCCGTGTAAGAGTGGAACTGTCGAATGGTGAAAAAAGAAGTAGAAATCGTGGCCCACCTCCCTCTTGGGGTCGTCGCCCTCGAGATGATTATCGTAGGAGGAGTCCTCCACCTCGTCGCAGGTACTTGAGAGAAAGCTTGTTAAGAGGTATTGGTGTAATGGAGTAGCTAGTAGGAGCAGGTATTTCTCTTAAGTTTGTTGGTGGGTTTTAAACTTTGGAAGAATCGGAGGTTTCTGTGAAACATTTGTTGGGTGTAATTTGGGGTATGTGAGTTGTGCTGAGTGTTGGCTTTTGTCTTTAGGTCACTGTTCATGTTGGTAGTCAGTAACTTCTATCTTGGATCTGTCTTCTAGTTCATCTTTCTAGTTGCATCTTTCCAAATCTTCCCTTATACTTCAGTTTAGGCCTTTTTCCATTTCTTGGCTCCATAATGACAAACATTACATTCAACTCTAGCTCTTCACAAATTTGTGTTTTCTACTATTAGCACAATTGTAATATTTATCAAACAGGCAGCTGTTTTAATGTTACAACTGGTAAAGTAGAAATCATTCTGAGACTAACTTAAGTCACTGACCAATAAAGGGGGCTAAAAAAGAAGTAATCCCAGTCATCTGTTCTTCAATCCCAAATAGGAGAAAATTCAGTTTTTTTATAATTGAAAATGGCATCATTCTTGGACCAGGCAGTATTGTCTGGGTGCTAACTCCACATCTCCTCAGACCTCCAAAATAGTTTCTATAGGACTAAATTTACCTCTTACAGGTGAGTGGAGTCCTTCTAGGAGACAGGAGTTCAAAATCTTGCCCCTTTTGCTATTTTGAAAAACAACAGCACACTGTTGCCCATCATAATAAAGAGTATTTGTTAGCTAATAGATGGTTGTACTGATGGCTTGTTTTTCATTTTTTTTGTGCTTTTTGGTCCATCTATTAATAAAAATGAACCCCGTTACAGAGTCACCATCATGTCTCTTCTCACCACCCTCTGAATCTGCATTAGCCAGTCAACTAGCCCTTTCAGCGTCATGTGACCAGCGCGCCCCATTCAGCTTGGCTGGTGTCGTTTCACATGACCCAGGCTGGCCAGTCGTCAGGTTGCACCGCCCTTTGGTTCCCGAGCATGCTGTTTTCTCTCAGCCTTCTCTCCAACCTTAACCAAATCGGCAGCAGCCACCTCGACCGCCCACACATTCCTGGCCAATCAGCTCAGCTGTTTATTTACCAAATGTCTTCACAACAACTACAGCAGCAGCCTTCGGCTAACAAAAAAGCAGGAAAAATCCACAACACCCCCTTCGCCAACCAACTAAATCCAACGCAACATCTGGCAAAACCTTTTCAGCAAATTCTTCCTGGCCGTCAGTCCGGCAGCCTCACCTCACCATTTCTAGCTTGTTGAAACCCAAAACTAGTAAGTTTTTCCTGCTTATACAGTTTACTGCTGGTTAAAATAAGGAGTAAGCGGCTTAAAGTAATTCTTTTTTCTGGATCAAAGGCTGGCTGTGCATAATTGAATGGTAACGTACATATATATTGCTTGAAAAACTTTTAAGGGTGATAGGGAACTCGTAATGTAACTAGGCCTTCAAGTGAAACTTATTTGCATGTGCAAGATGCCAAACTAAAAATTTTAATATCTCTAACAGATTAGCTTTTCTGGCAAAAATTTGTTGAATCCTATCACCTTTAAATGGTTTTACTAACAGTTTCAAAATTTAAAATTTTGGGGTTGAAGTGTGGGCCAAGCTAAGGTAATTTTGGTAAGCCTAAACACACTCTTAAATGTGACGATCACAAATGCAGTTCTAATGTAGCACTTAATGGCATCAATATTTACACCTACCGCGTTTTCACAAAATTACACTATCCACCTGGTACCTAAGTCTTGTCATGGACTTACAGGTTTGCATGGGTTCCAAATACTGGTTTATGGTACTGTTTTTGGAACTACTTGTGGGACTATATTTTGGTGTGGTGTTTGGGTAGTGAAGTTAGTTTGACATGAAGTTTTGCATTGGACAGATCTGCTGTGAAGCATTCTTTGTTAAAGTGAATCCATGGTTGGAATACCTGCTTTTCACTTGAGCTTTTTGTTTCTTAATCCTTCTGTGCCTTTTTTTTCTTTTCTTTTTTTTCTTTTTTTTTTTTTTTTTTTTTTTTTGGACGATGGGTGCCAGTTCTTCGGCACATTCACTGGGCCCAACAGTGAGATTGAAAAGTTGGGAAATGCCTCACGCCATAAATACTAATTGATGATGAGCCTAATTTTCCTGTTTCTGCTTTTAGATCTCCAAGAAGGAGAAGCTTCTCTCGCAGC\"\n",
        "else: # user input \n",
        "  # clean up sequence: upper case, remove space, RNA->DNA\n",
        "  seq = seq.upper().replace('U','T').replace(' ','')\n",
        "  # if contains non ACGT letters:\n",
        "  if not all(char in 'ACGT' for char in seq):\n",
        "    print(\"\\n\\n\")\n",
        "    print('\\n'+ bcolors.BOLD +bcolors.FAIL + \"WARNING: Your sequence contains non A/C/G/T letters!\"+bcolors.ENDC)\n",
        "    L0  = len(seq)\n",
        "    seq = re.sub('[^ACGT]+', '', seq)\n",
        "    L1 = len(seq)\n",
        "    print(L0-L1,'non A/C/G/T base(s) removed!'+bcolors.ENDC)\n",
        "    exit()\n",
        "\n",
        "\n",
        "print('\\n\\n'+ bcolors.BOLD +bcolors.OKBLUE + \"OUTPUT\"  +bcolors.ENDC)\n",
        "\n",
        "\n",
        "# delete output files from a previous run\n",
        "os.system('rm *.pdf *.txt *.zip')\n",
        "\n",
        "sites, models = predict_splice_sites(seq,model_nums,SCORE_TYPE,SCORE_CUTOFF,tissues)\n",
        "\n",
        "\n"
      ]
    },
    {
      "cell_type": "code",
      "execution_count": null,
      "metadata": {
        "colab": {
          "base_uri": "https://localhost:8080/",
          "height": 88,
          "referenced_widgets": [
            "b2b8ad9baf7e4a6eb4449c215da43146"
          ]
        },
        "id": "3Xbak2AbKHaz",
        "outputId": "59bcc727-3277-4107-a887-27e7001fb206",
        "cellView": "form"
      },
      "outputs": [
        {
          "metadata": {
            "tags": null
          },
          "name": "stdout",
          "output_type": "stream",
          "text": [
            "\n",
            "\n",
            "2023-05-10 19:55:05: Mutational scaning\n"
          ]
        },
        {
          "data": {
            "application/vnd.jupyter.widget-view+json": {
              "model_id": "b2b8ad9baf7e4a6eb4449c215da43146",
              "version_major": 2,
              "version_minor": 0
            },
            "text/plain": [
              "  0%|          | 0/158 [00:00<?, ?it/s]"
            ]
          },
          "metadata": {},
          "output_type": "display_data"
        }
      ],
      "source": [
        "\n",
        "#@title Step 2: Scanning for regulatory elements\n",
        "#@markdown Sequences in a sliding window will be set to N and the change in strength of each predicted splice site will be calculated and plotted.\n",
        "\n",
        "Window_size = 6 #@param {type:\"slider\", min:1, max:100, step:1}\n",
        "\n",
        "Step_size = 5 #@param {type:\"slider\", min:1, max:100, step:1}\n",
        "\n",
        "mutational_scan(seq,sites,model_nums,models,Window_size,Step_size)\n",
        "\n"
      ]
    },
    {
      "cell_type": "markdown",
      "metadata": {
        "id": "Cz3dcAlurVqE"
      },
      "source": [
        "# About <a name=\"Instructions\"></a>\n",
        "\n",
        "**Applications**\n",
        "* Identify potential splice sites and regulatory elements for each splice site in a single sequence\n",
        "\n",
        "**Limitations**\n",
        "* A gmail account is required to run Google Colab notebooks.\n",
        "* GPU may not be available and running the prediction on CPU will be significantly slower. \n",
        "* This notebook was designed for analyzing a single sequence. \n",
        "* Only sequences of length 1-150,000 bases have been tested for splice site prediction, and ~10kb for regulatory elements scanning. Longer sequences may fail due to a lack of memory.\n",
        "* The first run is slow due to the need to install the `Pangolin` package.  \n",
        "* Your browser can block the pop-up for downloading the result file. You can choose the `save_to_google_drive` option to upload to Google Drive instead or manually download the result file: Click on the little folder icon to the left, navigate to file: `res.zip`, right-click and select \\\"Download\\\".\n",
        "\n",
        "\n",
        "**Bugs**\n",
        "- If you encounter any bugs, please report the issue by emailing Xuebing Wu (xw2629 at cumc dot columbia dot edu)\n",
        "\n",
        "**License**\n",
        "\n",
        "* The source code of this notebook is licensed under [MIT](https://raw.githubusercontent.com/sokrypton/ColabFold/main/LICENSE). See details of the license for Pangolin [here](https://github.com/tkzeng/Pangolin/blob/main/LICENSE).\n",
        "\n",
        "**Acknowledgments**\n",
        "- We thank the [Pangolin](https://doi.org/10.1186/s13059-022-02664-4) team for developing an excellent model and open sourcing the software. \n",
        "\n",
        "- This notebook is modeld after the [ColabFold notebook](https://colab.research.google.com/github/sokrypton/ColabFold/blob/main/AlphaFold2.ipynb).\n"
      ]
    }
  ],
  "metadata": {
    "accelerator": "GPU",
    "colab": {
      "provenance": [],
      "include_colab_link": true
    },
    "gpuClass": "standard",
    "kernelspec": {
      "display_name": "Python 3",
      "language": "python",
      "name": "python3"
    },
    "language_info": {
      "codemirror_mode": {
        "name": "ipython",
        "version": 3
      },
      "file_extension": ".py",
      "mimetype": "text/x-python",
      "name": "python",
      "nbconvert_exporter": "python",
      "pygments_lexer": "ipython3",
      "version": "3.8.10"
    },
    "widgets": {
      "application/vnd.jupyter.widget-state+json": {}
    }
  },
  "nbformat": 4,
  "nbformat_minor": 0
}